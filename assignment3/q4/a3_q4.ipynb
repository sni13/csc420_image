{
 "cells": [
  {
   "attachments": {},
   "cell_type": "markdown",
   "metadata": {},
   "source": [
    "### Assignment 4 - Question 4"
   ]
  },
  {
   "cell_type": "code",
   "execution_count": null,
   "metadata": {},
   "outputs": [],
   "source": [
    "import cv2\n",
    "import numpy as np\n",
    "from matplotlib import pyplot as plt"
   ]
  },
  {
   "cell_type": "code",
   "execution_count": null,
   "metadata": {},
   "outputs": [],
   "source": [
    "def downsample(img, scale_percent=50):\n",
    "    width = int(img.shape[1] * scale_percent / 100)\n",
    "    height = int(img.shape[0] * scale_percent / 100)\n",
    "    return cv2.resize(img, (width, height))\n",
    "\n",
    "img1 = cv2.imread(\"./University_College,_University_of_Toronto.jpg\")\n",
    "img2 = cv2.imread(\"./University_College_Lawn,_University_of_Toronto,_Canada.jpg\")\n",
    "img1 = cv2.cvtColor(img1, cv2.COLOR_BGR2RGB)\n",
    "img2 = cv2.cvtColor(img2, cv2.COLOR_BGR2RGB)\n",
    "img1 = downsample(img1, 70)\n",
    "img2 = downsample(img2, 70)\n",
    "print(img1.shape)\n",
    "print(img2.shape)"
   ]
  },
  {
   "attachments": {},
   "cell_type": "markdown",
   "metadata": {},
   "source": [
    "#### 4.1: Calculate eigenvalues of second moment matrix "
   ]
  },
  {
   "cell_type": "code",
   "execution_count": null,
   "metadata": {},
   "outputs": [],
   "source": [
    "def second_moment_matrix(img, sigma):\n",
    "    gray = cv2.cvtColor(img, cv2.COLOR_BGR2GRAY)\n",
    "    blur = cv2.GaussianBlur(gray,(5,5),7)\n",
    "\n",
    "    Ix = cv2.Sobel(blur, cv2.CV_64F, 1, 0, ksize=5)\n",
    "    Iy = cv2.Sobel(blur, cv2.CV_64F, 0, 1, ksize=5)\n",
    "\n",
    "    IxIy = np.multiply(Ix, Iy)\n",
    "    Ix2 = np.multiply(Ix, Ix)\n",
    "    Iy2 = np.multiply(Iy, Iy)\n",
    "\n",
    "    Ix2_blur = cv2.GaussianBlur(Ix2,(7,7),sigma) \n",
    "    Iy2_blur = cv2.GaussianBlur(Iy2,(7,7),sigma) \n",
    "    IxIy_blur = cv2.GaussianBlur(IxIy,(7,7),sigma)\n",
    "    \n",
    "    m, n, _ = img.shape\n",
    "    e = np.zeros((m, n, 2))\n",
    "    for i in range(m):\n",
    "        for j in range(n):\n",
    "            e[i][j] = np.linalg.eigvals(np.array([[Ix2_blur[i][j], IxIy_blur[i][j]],\n",
    "                                                  [IxIy_blur[i][j], Iy2_blur[i][j]]]))\n",
    "    return e\n",
    "\n",
    "e1 = second_moment_matrix(img1, 2)\n",
    "e2 = second_moment_matrix(img2, 2)"
   ]
  },
  {
   "attachments": {},
   "cell_type": "markdown",
   "metadata": {},
   "source": [
    "#### 4.2: Plot eigenvalues"
   ]
  },
  {
   "cell_type": "code",
   "execution_count": null,
   "metadata": {},
   "outputs": [],
   "source": [
    "fig, axes = plt.subplots(1, 2, figsize = (15, 5))\n",
    "\n",
    "axes[0].set_title(\"Scatter Plot of Eigenvalues: image 1\")\n",
    "axes[0].scatter(e1[:,:,0], e1[:,:,1], s=0.2)\n",
    "axes[1].set_title(\"Scatter Plot of Eigenvalues: image 2\")\n",
    "axes[1].scatter(e1[:,:,0], e1[:,:,1], s=0.2)\n"
   ]
  },
  {
   "attachments": {},
   "cell_type": "markdown",
   "metadata": {},
   "source": [
    "#### 4.3: Pick thresholds and detect corners"
   ]
  },
  {
   "cell_type": "code",
   "execution_count": null,
   "metadata": {},
   "outputs": [],
   "source": [
    "def detect_corners(img, e, threshold):\n",
    "    img_copy = img.copy()\n",
    "    R = np.minimum(e[:,:,0], e[:,:,1])\n",
    "    img_copy[R > threshold]=[255, 255, 0] \n",
    "    plt.figure(figsize=(7,7))\n",
    "    plt.imshow(img_copy)\n"
   ]
  },
  {
   "attachments": {},
   "cell_type": "markdown",
   "metadata": {},
   "source": [
    "Image 1, pick threshold of 6e5."
   ]
  },
  {
   "cell_type": "code",
   "execution_count": null,
   "metadata": {},
   "outputs": [],
   "source": [
    "detect_corners(img1, e1, 6e5)"
   ]
  },
  {
   "attachments": {},
   "cell_type": "markdown",
   "metadata": {},
   "source": [
    "Image 2, pick threshold of 8e5."
   ]
  },
  {
   "cell_type": "code",
   "execution_count": null,
   "metadata": {},
   "outputs": [],
   "source": [
    "detect_corners(img2, e2, 5e5)"
   ]
  },
  {
   "attachments": {},
   "cell_type": "markdown",
   "metadata": {},
   "source": [
    "#### 4.4: Different Gaussian kernel"
   ]
  },
  {
   "attachments": {},
   "cell_type": "markdown",
   "metadata": {},
   "source": [
    "Instead of sigma=2, this time we use sigma of 30."
   ]
  },
  {
   "cell_type": "code",
   "execution_count": null,
   "metadata": {},
   "outputs": [],
   "source": [
    "img1_copy = img1.copy()\n",
    "img2_copy = img2.copy()\n",
    "\n",
    "e1_ = second_moment_matrix(img1_copy, 30)\n",
    "e2_ = second_moment_matrix(img2_copy, 30)"
   ]
  },
  {
   "cell_type": "code",
   "execution_count": null,
   "metadata": {},
   "outputs": [],
   "source": [
    "fig, axes = plt.subplots(1, 2, figsize = (15, 5))\n",
    "\n",
    "axes[0].set_title(\"Scatter Plot of Eigenvalues: image 1\")\n",
    "axes[0].scatter(e1_[:,:,0], e1_[:,:,1], s=0.2)\n",
    "axes[1].set_title(\"Scatter Plot of Eigenvalues: image 2\")\n",
    "axes[1].scatter(e2_[:,:,0], e2_[:,:,1], s=0.2)"
   ]
  },
  {
   "cell_type": "code",
   "execution_count": null,
   "metadata": {},
   "outputs": [],
   "source": [
    "detect_corners(img1_copy, e1_, 6e5)"
   ]
  },
  {
   "cell_type": "code",
   "execution_count": null,
   "metadata": {},
   "outputs": [],
   "source": [
    "detect_corners(img2_copy, e2_, 5e5)"
   ]
  },
  {
   "attachments": {},
   "cell_type": "markdown",
   "metadata": {},
   "source": [
    "Explain how this choice influenced the corner detection in each of the images"
   ]
  },
  {
   "attachments": {},
   "cell_type": "markdown",
   "metadata": {},
   "source": [
    "##### Comments:\n",
    "- Change sigma to 30, which is 15 times of its original value of 2.\n",
    "- For each image, we observe more corners are detected and detection areas are larger.\n",
    "- Eigenvalues in the scatter plot are more spread out with this larger sigma value. \n",
    "- Since eigenvalues determine whether a region is an edge, a corner or flat, with a larger sigma, more value points are classified as \"corner\", using the same threshold."
   ]
  }
 ],
 "metadata": {
  "kernelspec": {
   "display_name": "Python 3",
   "language": "python",
   "name": "python3"
  },
  "language_info": {
   "codemirror_mode": {
    "name": "ipython",
    "version": 3
   },
   "file_extension": ".py",
   "mimetype": "text/x-python",
   "name": "python",
   "nbconvert_exporter": "python",
   "pygments_lexer": "ipython3",
   "version": "3.8.0 (v3.8.0:fa919fdf25, Oct 14 2019, 10:23:27) \n[Clang 6.0 (clang-600.0.57)]"
  },
  "orig_nbformat": 4,
  "vscode": {
   "interpreter": {
    "hash": "aee8b7b246df8f9039afb4144a1f6fd8d2ca17a180786b69acc140d282b71a49"
   }
  }
 },
 "nbformat": 4,
 "nbformat_minor": 2
}
