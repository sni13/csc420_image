{
 "cells": [
  {
   "attachments": {},
   "cell_type": "markdown",
   "metadata": {},
   "source": [
    "### Assignment 3 - Question 3"
   ]
  },
  {
   "cell_type": "code",
   "execution_count": null,
   "metadata": {},
   "outputs": [],
   "source": [
    "import cv2\n",
    "import numpy as np\n",
    "from matplotlib import pyplot as plt\n"
   ]
  },
  {
   "attachments": {},
   "cell_type": "markdown",
   "metadata": {},
   "source": [
    "##### 3.1: Compute imag_histe gradient magnitudes and directions"
   ]
  },
  {
   "cell_type": "code",
   "execution_count": null,
   "metadata": {},
   "outputs": [],
   "source": [
    "def compute_img_gradient(gray_img, threshold=-1):\n",
    "    \"\"\"Compute image gradient magnitudes and directions\"\"\"\n",
    "    # find gradient on x, y\n",
    "    Ix = cv2.Sobel(gray_img, cv2.CV_64F, 1, 0, ksize=5)\n",
    "    Iy = cv2.Sobel(gray_img, cv2.CV_64F, 0, 1, ksize=5)\n",
    "    Ix[Ix==0] = 1e-6\n",
    "    # calculate magnitude\n",
    "    magnitude = np.sqrt(Ix*Ix + Iy*Iy)\n",
    "    magnitude[magnitude<threshold] = 0\n",
    "    # calculate direction\n",
    "    direction = np.arctan(Iy/Ix)\n",
    "    direction = np.where(direction<0, direction+np.pi, direction)\n",
    "    return magnitude, direction"
   ]
  },
  {
   "attachments": {},
   "cell_type": "markdown",
   "metadata": {},
   "source": [
    "##### 3.2: Create cell grid"
   ]
  },
  {
   "cell_type": "code",
   "execution_count": null,
   "metadata": {},
   "outputs": [],
   "source": [
    "def create_grid(img, size=8):\n",
    "    # calculate grid size\n",
    "    m, n = img.shape\n",
    "    print(m, n)\n",
    "    return m//size, n//size"
   ]
  },
  {
   "attachments": {},
   "cell_type": "markdown",
   "metadata": {},
   "source": [
    "##### 3.3: Accumulated gradient magnitudes & number of occ_histurrences"
   ]
  },
  {
   "cell_type": "code",
   "execution_count": null,
   "metadata": {},
   "outputs": [],
   "source": [
    "def hog(mag, dir, size=8, mode=False):\n",
    "    \"\"\"Calculate hog features using accumulated gradient magnitudes and number of occurrences\"\"\"\n",
    "    \n",
    "    h, w = create_grid(dir, size)\n",
    "    hist = np.zeros((h, w, 6))\n",
    "    for i in range(h):\n",
    "        for j in range(w):\n",
    "            row = i * size + (mag.shape[0]-h*size)//2\n",
    "            col = j * size + (mag.shape[1]-w*size)//2\n",
    "            for r in range(row, row+size):\n",
    "                for c in range(col, col+size):\n",
    "                    deg = int((dir[r, c]/(np.pi/6))+0.5)%6\n",
    "                    if mode:\n",
    "                        hist[i, j, deg] += mag[r, c]\n",
    "                    else:\n",
    "                        hist[i, j, deg] += 1\n",
    "    return hist\n",
    "\n",
    "def downsample(img, scale_percent=50):\n",
    "    width = int(img.shape[1] * scale_percent / 100)\n",
    "    height = int(img.shape[0] * scale_percent / 100)\n",
    "    return cv2.resize(img, (width, height))"
   ]
  },
  {
   "cell_type": "code",
   "execution_count": null,
   "metadata": {},
   "outputs": [],
   "source": [
    "def histogram_to_quiver(img, size):\n",
    "    if len(img.shape) == 2:\n",
    "        h, w = img.shape\n",
    "    else:\n",
    "        h, w, _ = img.shape\n",
    "    m = h // size\n",
    "    n = w // size\n",
    "\n",
    "    X, Y = np.meshgrid(np.linspace(size/2, (n-1)*size+size/2, n),\n",
    "                    np.linspace(size/2, (m-1)*size+size/2, m))\n",
    "    return X, Y\n",
    "\n",
    "def visualize(img, hog, hog2, size):\n",
    "    X, Y = histogram_to_quiver(img, size)\n",
    "    fig, ax = plt.subplots(1, 2, figsize=(15, 15))\n",
    "    ax[0].set_title('HOG by Accumulated Gradient Magnitudes')\n",
    "    ax[0].imshow(img, cmap='gray')\n",
    "    for i in range(6):\n",
    "        ax[0].quiver(X, Y,\n",
    "                  np.sin(i*np.pi/6) * hog[:, :, i]*0.001,\n",
    "                  np.cos(i*np.pi/6) * hog[:, :, i]*0.001,\n",
    "                  color='red',\n",
    "                  linewidth=0.5,\n",
    "                  headlength=0,\n",
    "                  headwidth=1,\n",
    "                  headaxislength=0,\n",
    "                  pivot='middle')\n",
    "        \n",
    "    ax[1].set_title('HOG by Magnitude Occurrences')\n",
    "    ax[1].imshow(img, cmap='gray')\n",
    "    for i in range(6):\n",
    "        ax[1].quiver(X, Y,\n",
    "                  np.sin(i*np.pi/6) * hog2[:, :, i]*0.001,\n",
    "                  np.cos(i*np.pi/6) * hog2[:, :, i]*0.001,\n",
    "                  color='red',\n",
    "                  linewidth=0.5,\n",
    "                  headlength=0,\n",
    "                  headwidth=1,\n",
    "                  headaxislength=0,\n",
    "                  pivot='middle')\n",
    "    plt.show()\n"
   ]
  },
  {
   "cell_type": "code",
   "execution_count": null,
   "metadata": {},
   "outputs": [],
   "source": [
    "def show_hog_result(img_path, threshold=0.01, size=8):\n",
    "    img = cv2.imread(img_path) \n",
    "    img = downsample(img)\n",
    "    gray = cv2.cvtColor(img, cv2.COLOR_BGR2GRAY)\n",
    "    magnitude, direction = compute_img_gradient(gray, threshold)\n",
    "    mag_hist = hog(magnitude, direction, size, mode=True)\n",
    "    occ_hist = hog(magnitude, direction, size, mode=False)\n",
    "    visualize(gray, mag_hist, occ_hist, size)"
   ]
  },
  {
   "cell_type": "code",
   "execution_count": null,
   "metadata": {},
   "outputs": [],
   "source": [
    "show_hog_result(\"./einstein.png\", 20, 8)"
   ]
  },
  {
   "cell_type": "code",
   "execution_count": null,
   "metadata": {},
   "outputs": [],
   "source": [
    "show_hog_result(\"./image1.png\", 20, 8)"
   ]
  },
  {
   "cell_type": "code",
   "execution_count": null,
   "metadata": {},
   "outputs": [],
   "source": [
    "show_hog_result(\"./image2.png\", 20, 8)"
   ]
  },
  {
   "attachments": {},
   "cell_type": "markdown",
   "metadata": {},
   "source": [
    "##### Comment: \n",
    "Comparing the three pairs of images, accumulated magnitude method tends to outperform number occurrences method in object detection accuracy."
   ]
  },
  {
   "attachments": {},
   "cell_type": "markdown",
   "metadata": {},
   "source": [
    "##### 3.4: Normalization"
   ]
  },
  {
   "attachments": {},
   "cell_type": "markdown",
   "metadata": {},
   "source": [
    "Use accumulated gradient magnitudes for the remaining tasks."
   ]
  },
  {
   "cell_type": "code",
   "execution_count": null,
   "metadata": {},
   "outputs": [],
   "source": [
    "def build_descriptor(hog):\n",
    "    \"\"\"calculate the descriptor. Return (M-1)x(N-1)x24 array.\"\"\"\n",
    "    h, w, _ = hog.shape\n",
    "    result = np.zeros((h-1, w-1, 24))\n",
    "    for i in range(h-1):\n",
    "        for j in range(w-1):\n",
    "            result[i, j, :] = np.concatenate([hog[i, j, :], hog[i+1, j, :], hog[i, j+1, :], hog[i+1, j+1]])\n",
    "            # normalize\n",
    "            result[i, j, :] = result[i, j, :] / np.sqrt(np.sum(result[i, j, :] * result[i, j, :])+0.001)\n",
    "    return result\n",
    "\n",
    "def store_descriptor(img_path, txt_name):\n",
    "    # import image and convert to grayscale\n",
    "    img = cv2.imread(img_path) \n",
    "    img = downsample(img)\n",
    "    gray = cv2.cvtColor(img, cv2.COLOR_BGR2GRAY)\n",
    "    # compute image gradient magnitude and directions; compute histograms\n",
    "    magnitude, direction = compute_img_gradient(gray)\n",
    "    mag_hist= hog(magnitude, direction, mode=True)\n",
    "    descriptor = build_descriptor(mag_hist)\n",
    "    # save to txt file\n",
    "    np.savetxt(txt_name, descriptor.reshape((1, -1)), delimiter=',')\n",
    "\n",
    "store_descriptor(\"./image2.png\", 'image2.txt')\n",
    "store_descriptor(\"./image1.png\", 'image1.txt')"
   ]
  },
  {
   "attachments": {},
   "cell_type": "markdown",
   "metadata": {},
   "source": [
    "##### Flash vs Non-Flash"
   ]
  },
  {
   "attachments": {},
   "cell_type": "markdown",
   "metadata": {},
   "source": [
    "##### Set up images and calculate hog magnitudes"
   ]
  },
  {
   "cell_type": "code",
   "execution_count": null,
   "metadata": {},
   "outputs": [],
   "source": [
    "flash_path = \"./flash.png\"\n",
    "non_flash_path = \"./non_flash.png\"\n",
    "\n",
    "\n",
    "def load_image_hog(img_path, txt_name):\n",
    "    # load image, downsample it, and convert to grayscale\n",
    "    img = cv2.imread(img_path) \n",
    "    img = downsample(img, 30)\n",
    "    gray = cv2.cvtColor(img, cv2.COLOR_BGR2GRAY)\n",
    "    # compute image gradient magnitude and directions; compute histograms\n",
    "    magnitude, direction = compute_img_gradient(gray, 20)\n",
    "    mag_hist= hog(magnitude, direction, mode=True)\n",
    "    # txt_name = img_path[:-4]+'.txt'\n",
    "    descriptor = build_descriptor(mag_hist)\n",
    "    np.savetxt(txt_name, descriptor.reshape((1, -1)), delimiter=',')\n",
    "    # store_descriptor(img_path, txt_name)\n",
    "    return gray, mag_hist, descriptor\n",
    "\n",
    "flash, flash_hog, flash_norm = load_image_hog(flash_path, 'flash.txt')\n",
    "non_flash, non_flash_hog, non_flash_norm = load_image_hog(non_flash_path, 'non_flash.txt')\n",
    "\n",
    "# plot original grayscale pictures\n",
    "fig, ax = plt.subplots(1, 2, figsize=(15, 13))\n",
    "\n",
    "ax[0].set_title('Flash Magnitudes')\n",
    "ax[0].imshow(flash, cmap='gray')\n",
    "\n",
    "ax[1].set_title('Normalized Flash Magnitudes')\n",
    "ax[1].imshow(non_flash, cmap='gray')\n"
   ]
  },
  {
   "cell_type": "code",
   "execution_count": null,
   "metadata": {},
   "outputs": [],
   "source": [
    "def histogram_to_quiver2(img, size, norm=False):\n",
    "    if len(img.shape) == 2:\n",
    "        h, w = img.shape\n",
    "    else:\n",
    "        h, w, _ = img.shape\n",
    "    m = h // size\n",
    "    n = w // size\n",
    "    if norm:\n",
    "        # print(np.linspace(size/2, (n-1)*size-size/2, n-1))\n",
    "        # print(np.linspace(size/2, (m-1)*size-size/2, m-1))\n",
    "        X, Y = np.meshgrid(np.linspace(size/2, (n-1)*size-size/2, n-1),\n",
    "                        np.linspace(size/2, (m-1)*size-size/2, m-1)\n",
    "                        )\n",
    "    else:\n",
    "        X, Y = np.meshgrid(np.linspace(size/2, (n-1)*size+size/2, n),\n",
    "                        np.linspace(size/2, (m-1)*size+size/2, m)\n",
    "                        )\n",
    "    return X, Y\n",
    "    \n",
    "# X, Y = histogram_to_quiver2(flash, 8, norm=True)\n",
    "\n",
    "def visualize2(img, hog, norm, size):\n",
    "    X, Y = histogram_to_quiver2(img, size, norm=False)\n",
    "    fig, ax = plt.subplots(1, 2, figsize=(15, 15))\n",
    "    ax[0].imshow(img, cmap='gray')\n",
    "    for i in range(6):\n",
    "        ax[0].quiver(X, Y,\n",
    "                  np.sin(i*np.pi/6) * hog[:, :, i]*0.001,\n",
    "                  np.cos(i*np.pi/6) * hog[:, :, i]*0.001,\n",
    "                  color='red',\n",
    "                  linewidth=0.5,\n",
    "                  headlength=0,\n",
    "                  headwidth=1,\n",
    "                  headaxislength=0,\n",
    "                  pivot='middle')\n",
    "    ax[1].imshow(img, cmap='gray')\n",
    "\n",
    "    X, Y = histogram_to_quiver2(img, size, norm=True)\n",
    "    for i in range(6):    \n",
    "        ax[1].quiver(X, Y,\n",
    "                np.sin(i*np.pi/6) * norm[:, :, i] * 0.001,\n",
    "                np.cos(i*np.pi/6) * norm[:, :, i]  *0.001,\n",
    "                color='red',\n",
    "                linewidth=0.5,\n",
    "                headlength=0,\n",
    "                headwidth=1,\n",
    "                headaxislength=0,\n",
    "                pivot='middle')\n",
    "    plt.show()\n"
   ]
  },
  {
   "attachments": {},
   "cell_type": "markdown",
   "metadata": {},
   "source": [
    "##### (i)-(ii) Visualize original HOG arrays V.S. Normalized HOG"
   ]
  },
  {
   "cell_type": "code",
   "execution_count": null,
   "metadata": {},
   "outputs": [],
   "source": [
    "visualize2(flash, flash_hog, flash_norm, 8)"
   ]
  },
  {
   "cell_type": "code",
   "execution_count": null,
   "metadata": {},
   "outputs": [],
   "source": [
    "visualize2(non_flash, non_flash_hog, non_flash_norm, 8)"
   ]
  },
  {
   "attachments": {},
   "cell_type": "markdown",
   "metadata": {},
   "source": [
    "##### (iii) Compare results: why or why not the normalization of HOG is beneficial"
   ]
  },
  {
   "attachments": {},
   "cell_type": "markdown",
   "metadata": {},
   "source": [
    "##### Visualization: \n",
    "- To compare the results with and without the normalization, I visualized two pairs of comparing pictures for both flash and non-flash pictures. \n",
    "- After normalization, there are (m-1)*(n-1) cells of 2x2 blocks; each contains 24 entries, corresponding to the 4 cells it contains. \n",
    "- For each 2x2 block's entries, the first 6 entries are the normalized magnitudes of the original 8*8 cells on the top-left among the four.\n",
    "- Therefore, we use these first 6 normalized entries to visualize each cell. The last horizontal and vertical cells are ignored since there are only (m-1)*(n-1) 2x2 blocks."
   ]
  },
  {
   "attachments": {},
   "cell_type": "markdown",
   "metadata": {},
   "source": [
    "##### Comments:\n",
    "- Overall, visual comparisons suggest normalization of HOG in this case is not very beneficial.\n",
    "- After normalization, the resultant magnitudes are more invariant in illumination and shadowing changes.\n",
    "The block normalization process has a trade-off:\n",
    "    - On the one hand, normalization reduces the effects of local variation in the texture of same objects. (e.g. after normalization, detection accuracy for the chopsticks on the bottom-right corner has improved).  \n",
    "    - On the other hand, normalization can lead to loss of finer details for large magnitudes and added noise. (e.g. plain areas like bowl are harder to detect due to introduced noise).\n",
    "- Compare normalization results on flash and non-flash images, flash image seems to have slightly better performance and less noise due to its higher contrast."
   ]
  }
 ],
 "metadata": {
  "kernelspec": {
   "display_name": "Python 3",
   "language": "python",
   "name": "python3"
  },
  "language_info": {
   "codemirror_mode": {
    "name": "ipython",
    "version": 3
   },
   "file_extension": ".py",
   "mimetype": "text/x-python",
   "name": "python",
   "nbconvert_exporter": "python",
   "pygments_lexer": "ipython3",
   "version": "3.8.0 (v3.8.0:fa919fdf25, Oct 14 2019, 10:23:27) \n[Clang 6.0 (clang-600.0.57)]"
  },
  "orig_nbformat": 4,
  "vscode": {
   "interpreter": {
    "hash": "aee8b7b246df8f9039afb4144a1f6fd8d2ca17a180786b69acc140d282b71a49"
   }
  }
 },
 "nbformat": 4,
 "nbformat_minor": 2
}
